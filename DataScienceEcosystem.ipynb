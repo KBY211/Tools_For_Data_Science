{
 "cells": [
  {
   "cell_type": "markdown",
   "id": "587d214d-32de-429b-af97-0ecf15c60446",
   "metadata": {},
   "source": [
    "# Data Science Tools and Ecosystem"
   ]
  },
  {
   "cell_type": "markdown",
   "id": "09a8788b-d7b6-4a9d-b875-03b1c8f046fa",
   "metadata": {},
   "source": [
    "# Data Science Tools and Ecosystem"
   ]
  },
  {
   "cell_type": "markdown",
   "id": "a84e20ca-3953-4ede-875a-817cd06685f6",
   "metadata": {},
   "source": [
    "In this notebook, Data Science Tools and Ecosystem are summarized."
   ]
  },
  {
   "cell_type": "markdown",
   "id": "2a061b92-bff3-4c20-8cfd-c8df280c9575",
   "metadata": {},
   "source": [
    "In this notebook, Data Science Tools and Ecosystem are summarized."
   ]
  },
  {
   "cell_type": "markdown",
   "id": "79a7bb16-1c87-4c20-a324-4e4e352f0511",
   "metadata": {},
   "source": [
    "**Objectives:**\n",
    "* Popular Data Science Languages\n",
    "* Popular Data Science Libraries\n",
    "* Popular Data Science Tools\n",
    "* Basic arithmetic functions\n",
    "* Sharing the results on GitHub\n",
    "\n",
    "  "
   ]
  },
  {
   "cell_type": "markdown",
   "id": "5925cf8f-ab19-4e7e-951f-15bdb325aa64",
   "metadata": {},
   "source": [
    "**Objectives:**\n",
    "* Popular Data Science Languages\n",
    "* Popular Data Science Libraries\n",
    "* Popular Data Science Tools\n",
    "* Basic arithmetic functions\n",
    "* Sharing the results on GitHub\n",
    "\n",
    "  "
   ]
  },
  {
   "cell_type": "markdown",
   "id": "1203604e-46f4-4c4e-baba-a9986480fcbf",
   "metadata": {},
   "source": [
    "Data scientists use many languages.  \n",
    "Some of the more popular ones are:\n",
    "\n",
    "1. R\n",
    "2. Python\n",
    "3. Julia\n",
    "4. C++\n",
    "   "
   ]
  },
  {
   "cell_type": "markdown",
   "id": "10531f7d-67df-41fd-ab45-cabcb668a18d",
   "metadata": {},
   "source": [
    "Data scientists use many languages.  \n",
    "Some of the more popular ones are:\n",
    "\n",
    "1. R\n",
    "2. Python\n",
    "3. Julia\n",
    "4. C++\n",
    "   "
   ]
  },
  {
   "cell_type": "markdown",
   "id": "8a2af120-4f88-40af-959b-62a148973c54",
   "metadata": {},
   "source": [
    "Some of the commonly used libraries used by Data Scientists include:\n",
    "\n",
    "1.  Pandas\n",
    "2.  Numpy\n",
    "3.  Matplotlib\n",
    "4.  SciPy\n",
    "5.  Seaborn\n",
    "6.  GGally\n",
    "   "
   ]
  },
  {
   "cell_type": "markdown",
   "id": "cd5741d9-9d7b-4fee-968a-4787a16ec12d",
   "metadata": {},
   "source": [
    "Some of the commonly used libraries used by Data Scientists include:\n",
    "\n",
    "1.  Pandas\n",
    "2.  Numpy\n",
    "3.  Matplotlib\n",
    "4.  SciPy\n",
    "5.  Seaborn\n",
    "6.  GGally\n",
    "   "
   ]
  },
  {
   "cell_type": "markdown",
   "id": "972bff20-6dc2-4655-8502-760adb3e3997",
   "metadata": {},
   "source": [
    "There are many Data Science Tools, such as those in this list.\n",
    "\n",
    "|Data Tools|\n",
    "|----------|\n",
    "|Jupyter Lab|\n",
    "|RStudio|\n",
    "|VSCode|"
   ]
  },
  {
   "cell_type": "markdown",
   "id": "9bb93d50-5a79-4f45-95a1-0b9f82e2ab9a",
   "metadata": {},
   "source": [
    "There are many Data Science Tools, such as those in this list.\n",
    "\n",
    "|Data Tools|\n",
    "|----------|\n",
    "|Jupyter Lab|\n",
    "|RStudio|\n",
    "|VSCode|"
   ]
  },
  {
   "cell_type": "code",
   "execution_count": null,
   "id": "7ed946e2-13d2-40ff-99e8-293f955729d2",
   "metadata": {},
   "outputs": [],
   "source": [
    "### Below are a few examples of evaluating arithmetic expressions in Python"
   ]
  },
  {
   "cell_type": "markdown",
   "id": "dcac4c69-8d5a-4055-b553-7de015c21136",
   "metadata": {},
   "source": [
    "### Below are a few examples of evaluating arithmetic expressions in Python"
   ]
  },
  {
   "cell_type": "code",
   "execution_count": 3,
   "id": "967b5232-262b-4fb6-a327-2353850a18e6",
   "metadata": {},
   "outputs": [
    {
     "data": {
      "text/plain": [
       "17"
      ]
     },
     "execution_count": 3,
     "metadata": {},
     "output_type": "execute_result"
    }
   ],
   "source": [
    "# This a simple arithmetic expression to mutiply then add integers\n",
    "(3*4)+5"
   ]
  },
  {
   "cell_type": "code",
   "execution_count": 4,
   "id": "2d8bb213-c43a-4659-b66a-deffd88f7150",
   "metadata": {},
   "outputs": [
    {
     "name": "stdout",
     "output_type": "stream",
     "text": [
      "3.3333333333333335\n"
     ]
    }
   ],
   "source": [
    "# This will convert 200 minutes to hours by diving by 60\n",
    "minutes = 200\n",
    "hours = minutes/60\n",
    "print(hours)\n"
   ]
  },
  {
   "cell_type": "markdown",
   "id": "9b79fbed-0680-4880-96d3-82a2b44d4503",
   "metadata": {},
   "source": [
    "## Author\n",
    "Karl"
   ]
  },
  {
   "cell_type": "markdown",
   "id": "7fac5c51-3310-49c2-a85d-0131cf542775",
   "metadata": {},
   "source": [
    "## Author\n",
    "Karl"
   ]
  }
 ],
 "metadata": {
  "kernelspec": {
   "display_name": "Python 3 (ipykernel)",
   "language": "python",
   "name": "python3"
  },
  "language_info": {
   "codemirror_mode": {
    "name": "ipython",
    "version": 3
   },
   "file_extension": ".py",
   "mimetype": "text/x-python",
   "name": "python",
   "nbconvert_exporter": "python",
   "pygments_lexer": "ipython3",
   "version": "3.11.7"
  }
 },
 "nbformat": 4,
 "nbformat_minor": 5
}
